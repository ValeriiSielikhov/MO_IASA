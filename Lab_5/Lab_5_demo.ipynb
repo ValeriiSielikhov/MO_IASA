{
 "cells": [
  {
   "cell_type": "code",
   "execution_count": 1,
   "id": "improved-kentucky",
   "metadata": {},
   "outputs": [],
   "source": [
    "from simplex import *"
   ]
  },
  {
   "cell_type": "code",
   "execution_count": 2,
   "id": "accomplished-label",
   "metadata": {},
   "outputs": [],
   "source": [
    "import numpy as np\n",
    "import pandas as pd\n",
    "import matplotlib.pyplot as plt\n",
    "plt.style.use(\"seaborn-whitegrid\")"
   ]
  },
  {
   "cell_type": "markdown",
   "id": "improved-trustee",
   "metadata": {},
   "source": [
    "## Постановка задачі"
   ]
  },
  {
   "cell_type": "markdown",
   "id": "distributed-course",
   "metadata": {},
   "source": [
    "Розв'язати максимізаційну проблему:\n",
    "\\begin{equation}\n",
    "\\begin{cases}\n",
    "z = 50x_1 + 80x_2 \\rightarrow max;\\\\\n",
    "x_1 + 2x_2 \\leq 32;\\\\\n",
    "3x_1 + 4x_2 \\leq 84;\\\\\n",
    "x_1, x_2 \\geq 0\n",
    "\\end{cases}\n",
    "\\end{equation}"
   ]
  },
  {
   "cell_type": "code",
   "execution_count": 3,
   "id": "timely-supervisor",
   "metadata": {},
   "outputs": [],
   "source": [
    "func = \"50*x_1 + 80*x_2\"\n",
    "constr_less_1 = \"1*x_1 + 2*x_2 <= 32\"\n",
    "constr_less_2 = \"3*x_1 + 4*x_2 <= 84\""
   ]
  },
  {
   "cell_type": "code",
   "execution_count": 4,
   "id": "thick-desert",
   "metadata": {},
   "outputs": [],
   "source": [
    "init_pr = convert_string_problem_into_arrays(func,\n",
    "                                            [],\n",
    "                                            [constr_less_1, constr_less_2],\n",
    "                                            [],\n",
    "                                            \"\")"
   ]
  },
  {
   "cell_type": "code",
   "execution_count": 5,
   "id": "driving-flight",
   "metadata": {},
   "outputs": [
    {
     "data": {
      "text/plain": [
       "{'func': [50, 80],\n",
       " 'equal': [],\n",
       " 'less': [{'coefs': [1, 2], 'ind': [1, 2], 'val': 32},\n",
       "  {'coefs': [3, 4], 'ind': [1, 2], 'val': 84}],\n",
       " 'greater': [],\n",
       " 'free_vars': []}"
      ]
     },
     "execution_count": 5,
     "metadata": {},
     "output_type": "execute_result"
    }
   ],
   "source": [
    "init_pr"
   ]
  },
  {
   "cell_type": "markdown",
   "id": "starting-jefferson",
   "metadata": {},
   "source": [
    "## Приведення до канонічної форми"
   ]
  },
  {
   "cell_type": "markdown",
   "id": "indoor-factory",
   "metadata": {},
   "source": [
    "Будь-яку задачу лінійного програмування можна звести до канонічної форми, яка має вигляд:\n",
    "\\begin{equation}\n",
    "f(x) = <c, x> \\rightarrow min;\\\\\n",
    "Ax = b;\\\\\n",
    "b \\geq 0; x \\geq 0,\n",
    "\\end{equation}\n",
    "де \\begin{equation}\n",
    "A =\\left( \\begin{matrix}\n",
    "a_{11} & \\dots & a_{1n}\\\\\n",
    "& \\dots &\\\\\n",
    "a_{m1} & \\dots & a_{mn}\n",
    "\\end{matrix}\\right),\n",
    "\\end{equation}\n",
    "$n$ - кількість змінних, $m$ - кількість умов\n",
    "\n",
    "Алгоритм переходу від довільної задачі ЛП до канонічної форми:\n",
    "\n",
    "1. Нерівності з від'ємними $b_i$ множимо на $(-1)$;\n",
    "\n",
    "2. Якщо нерівність вигляду \"$\\leq$\", то до лівої частини додаємо $s_i \\geq 0$ - додаткову змінну, і отримуємо рівність;\n",
    "\n",
    "3. Якщо нерівність вигляду \"$\\geq$\", то від лівої частини віднімаємо $s_j \\geq 0$ - додаткову змінну, і отримуємо рівність;\n",
    "\n",
    "4. Робимо заміну змінних:\n",
    "\n",
    "* $x_i\\leq 0 \\Rightarrow x_i' = -x_i \\geq 0$\n",
    "* $x_i$ - будь-який, тоді $x_i = x_i' - x_i'', x_i', x_i'' \\geq 0$\n",
    "\n",
    "5. У задачі максимізації множимо коефіцієнти функції на $(-1)$"
   ]
  },
  {
   "cell_type": "markdown",
   "id": "adapted-plenty",
   "metadata": {},
   "source": [
    "\\begin{equation}\n",
    "\\begin{cases}\n",
    "z = 50x_1 + 80x_2 \\rightarrow max;\\\\\n",
    "x_1 + 2x_2 \\leq 32;\\\\\n",
    "3x_1 + 4x_2 \\leq 84;\\\\\n",
    "x_1, x_2 \\geq 0\n",
    "\\end{cases}\n",
    "\\end{equation}"
   ]
  },
  {
   "cell_type": "code",
   "execution_count": 6,
   "id": "rubber-button",
   "metadata": {},
   "outputs": [],
   "source": [
    "A, b, c, add = canonic_form_of_problem(init_pr)"
   ]
  },
  {
   "cell_type": "code",
   "execution_count": 7,
   "id": "resident-offset",
   "metadata": {
    "scrolled": true
   },
   "outputs": [
    {
     "data": {
      "text/plain": [
       "array([[1., 2., 1., 0.],\n",
       "       [3., 4., 0., 1.]])"
      ]
     },
     "execution_count": 7,
     "metadata": {},
     "output_type": "execute_result"
    }
   ],
   "source": [
    "A"
   ]
  },
  {
   "cell_type": "code",
   "execution_count": 8,
   "id": "numeric-arena",
   "metadata": {},
   "outputs": [
    {
     "data": {
      "text/plain": [
       "array([32., 84.])"
      ]
     },
     "execution_count": 8,
     "metadata": {},
     "output_type": "execute_result"
    }
   ],
   "source": [
    "b"
   ]
  },
  {
   "cell_type": "code",
   "execution_count": 9,
   "id": "plain-diploma",
   "metadata": {},
   "outputs": [
    {
     "data": {
      "text/plain": [
       "array([-50., -80.,   0.,   0.])"
      ]
     },
     "execution_count": 9,
     "metadata": {},
     "output_type": "execute_result"
    }
   ],
   "source": [
    "c"
   ]
  },
  {
   "cell_type": "markdown",
   "id": "expressed-challenge",
   "metadata": {},
   "source": [
    "## Перший крок симплекс методу"
   ]
  },
  {
   "cell_type": "markdown",
   "id": "sensitive-pressure",
   "metadata": {},
   "source": [
    "На першому кроці симплекс методу формується таблиця вигляду:"
   ]
  },
  {
   "cell_type": "code",
   "execution_count": null,
   "id": "pressing-investor",
   "metadata": {},
   "outputs": [],
   "source": []
  },
  {
   "cell_type": "code",
   "execution_count": 10,
   "id": "nuclear-cigarette",
   "metadata": {},
   "outputs": [],
   "source": [
    "first_table, bases = simplex_init(A, b, c, add)"
   ]
  },
  {
   "cell_type": "code",
   "execution_count": 11,
   "id": "compact-discharge",
   "metadata": {},
   "outputs": [
    {
     "data": {
      "text/html": [
       "<div>\n",
       "<style scoped>\n",
       "    .dataframe tbody tr th:only-of-type {\n",
       "        vertical-align: middle;\n",
       "    }\n",
       "\n",
       "    .dataframe tbody tr th {\n",
       "        vertical-align: top;\n",
       "    }\n",
       "\n",
       "    .dataframe thead th {\n",
       "        text-align: right;\n",
       "    }\n",
       "</style>\n",
       "<table border=\"1\" class=\"dataframe\">\n",
       "  <thead>\n",
       "    <tr style=\"text-align: right;\">\n",
       "      <th></th>\n",
       "      <th>z</th>\n",
       "      <th>x_1</th>\n",
       "      <th>x_2</th>\n",
       "      <th>s_1</th>\n",
       "      <th>s_2</th>\n",
       "      <th>sol</th>\n",
       "    </tr>\n",
       "  </thead>\n",
       "  <tbody>\n",
       "    <tr>\n",
       "      <th>z</th>\n",
       "      <td>1.0</td>\n",
       "      <td>-50.0</td>\n",
       "      <td>-80.0</td>\n",
       "      <td>0.0</td>\n",
       "      <td>0.0</td>\n",
       "      <td>0.0</td>\n",
       "    </tr>\n",
       "    <tr>\n",
       "      <th>s_1</th>\n",
       "      <td>0.0</td>\n",
       "      <td>1.0</td>\n",
       "      <td>2.0</td>\n",
       "      <td>1.0</td>\n",
       "      <td>0.0</td>\n",
       "      <td>32.0</td>\n",
       "    </tr>\n",
       "    <tr>\n",
       "      <th>s_2</th>\n",
       "      <td>0.0</td>\n",
       "      <td>3.0</td>\n",
       "      <td>4.0</td>\n",
       "      <td>0.0</td>\n",
       "      <td>1.0</td>\n",
       "      <td>84.0</td>\n",
       "    </tr>\n",
       "  </tbody>\n",
       "</table>\n",
       "</div>"
      ],
      "text/plain": [
       "       z   x_1   x_2  s_1  s_2   sol\n",
       "z    1.0 -50.0 -80.0  0.0  0.0   0.0\n",
       "s_1  0.0   1.0   2.0  1.0  0.0  32.0\n",
       "s_2  0.0   3.0   4.0  0.0  1.0  84.0"
      ]
     },
     "execution_count": 11,
     "metadata": {},
     "output_type": "execute_result"
    }
   ],
   "source": [
    "pd.DataFrame(first_table, columns = bases, index = [\"z\", \"s_1\", \"s_2\"])"
   ]
  },
  {
   "cell_type": "markdown",
   "id": "talented-inspiration",
   "metadata": {},
   "source": [
    "## Розв'язок"
   ]
  },
  {
   "cell_type": "code",
   "execution_count": null,
   "id": "persistent-clock",
   "metadata": {},
   "outputs": [],
   "source": []
  },
  {
   "cell_type": "code",
   "execution_count": 12,
   "id": "subjective-confirmation",
   "metadata": {
    "scrolled": true
   },
   "outputs": [
    {
     "data": {
      "text/html": [
       "<div>\n",
       "<style scoped>\n",
       "    .dataframe tbody tr th:only-of-type {\n",
       "        vertical-align: middle;\n",
       "    }\n",
       "\n",
       "    .dataframe tbody tr th {\n",
       "        vertical-align: top;\n",
       "    }\n",
       "\n",
       "    .dataframe thead th {\n",
       "        text-align: right;\n",
       "    }\n",
       "</style>\n",
       "<table border=\"1\" class=\"dataframe\">\n",
       "  <thead>\n",
       "    <tr style=\"text-align: right;\">\n",
       "      <th></th>\n",
       "      <th>z</th>\n",
       "      <th>x_1</th>\n",
       "      <th>x_2</th>\n",
       "      <th>s_1</th>\n",
       "      <th>s_2</th>\n",
       "      <th>sol</th>\n",
       "    </tr>\n",
       "  </thead>\n",
       "  <tbody>\n",
       "    <tr>\n",
       "      <th>z</th>\n",
       "      <td>1.0</td>\n",
       "      <td>0.0</td>\n",
       "      <td>0.0</td>\n",
       "      <td>20.0</td>\n",
       "      <td>10.0</td>\n",
       "      <td>1480.0</td>\n",
       "    </tr>\n",
       "    <tr>\n",
       "      <th>x_2</th>\n",
       "      <td>0.0</td>\n",
       "      <td>0.0</td>\n",
       "      <td>1.0</td>\n",
       "      <td>1.5</td>\n",
       "      <td>-0.5</td>\n",
       "      <td>6.0</td>\n",
       "    </tr>\n",
       "    <tr>\n",
       "      <th>x_1</th>\n",
       "      <td>0.0</td>\n",
       "      <td>1.0</td>\n",
       "      <td>0.0</td>\n",
       "      <td>-2.0</td>\n",
       "      <td>1.0</td>\n",
       "      <td>20.0</td>\n",
       "    </tr>\n",
       "  </tbody>\n",
       "</table>\n",
       "</div>"
      ],
      "text/plain": [
       "       z  x_1  x_2   s_1   s_2     sol\n",
       "z    1.0  0.0  0.0  20.0  10.0  1480.0\n",
       "x_2  0.0  0.0  1.0   1.5  -0.5     6.0\n",
       "x_1  0.0  1.0  0.0  -2.0   1.0    20.0"
      ]
     },
     "execution_count": 12,
     "metadata": {},
     "output_type": "execute_result"
    }
   ],
   "source": [
    "table_final, res = simplex_method(first_table, bases)\n",
    "pd.DataFrame(table_final, columns = bases, index = [\"z\", \"x_2\", \"x_1\"])"
   ]
  },
  {
   "cell_type": "code",
   "execution_count": 13,
   "id": "signal-tsunami",
   "metadata": {
    "scrolled": true
   },
   "outputs": [
    {
     "data": {
      "text/plain": [
       "{'z': 1480.0, 'x_1': 20.0, 'x_2': 6.0}"
      ]
     },
     "execution_count": 13,
     "metadata": {},
     "output_type": "execute_result"
    }
   ],
   "source": [
    "res"
   ]
  },
  {
   "cell_type": "markdown",
   "id": "prerequisite-richards",
   "metadata": {},
   "source": [
    "## Приклад, коли точка максимуму \"не входить\" в область"
   ]
  },
  {
   "cell_type": "code",
   "execution_count": 14,
   "id": "lucky-territory",
   "metadata": {},
   "outputs": [],
   "source": [
    "init_pr_1 = convert_string_problem_into_arrays(\"50*x_1+80*x_2\",\n",
    "                                            [],\n",
    "                                            [\"1*x_1+2*x_2 <= 32\"],\n",
    "                                            [\"1*x_1+3*x_2 >= 50\"],\n",
    "                                            \"\")"
   ]
  },
  {
   "cell_type": "code",
   "execution_count": 15,
   "id": "rubber-pickup",
   "metadata": {},
   "outputs": [],
   "source": [
    "A_1, b_1, c_1, add_1 = canonic_form_of_problem(init_pr_1)"
   ]
  },
  {
   "cell_type": "code",
   "execution_count": 16,
   "id": "attached-basement",
   "metadata": {},
   "outputs": [],
   "source": [
    "first_table_1, bases_1 = simplex_init(A_1, b_1, c_1, add_1)"
   ]
  },
  {
   "cell_type": "code",
   "execution_count": 17,
   "id": "dominican-interaction",
   "metadata": {},
   "outputs": [
    {
     "data": {
      "text/plain": [
       "array([[  1., -50., -80.,   0.,   0.,   0.],\n",
       "       [  0.,   1.,   2.,   1.,   0.,  32.],\n",
       "       [  0.,   1.,   3.,   0.,  -1.,  50.]])"
      ]
     },
     "execution_count": 17,
     "metadata": {},
     "output_type": "execute_result"
    }
   ],
   "source": [
    "first_table_1"
   ]
  },
  {
   "cell_type": "code",
   "execution_count": 18,
   "id": "foreign-germany",
   "metadata": {},
   "outputs": [],
   "source": [
    "table_final_1, res_1 = simplex_method(first_table_1, bases_1)"
   ]
  },
  {
   "cell_type": "code",
   "execution_count": 19,
   "id": "recent-screen",
   "metadata": {},
   "outputs": [
    {
     "data": {
      "text/html": [
       "<div>\n",
       "<style scoped>\n",
       "    .dataframe tbody tr th:only-of-type {\n",
       "        vertical-align: middle;\n",
       "    }\n",
       "\n",
       "    .dataframe tbody tr th {\n",
       "        vertical-align: top;\n",
       "    }\n",
       "\n",
       "    .dataframe thead th {\n",
       "        text-align: right;\n",
       "    }\n",
       "</style>\n",
       "<table border=\"1\" class=\"dataframe\">\n",
       "  <thead>\n",
       "    <tr style=\"text-align: right;\">\n",
       "      <th></th>\n",
       "      <th>z</th>\n",
       "      <th>x_1</th>\n",
       "      <th>x_2</th>\n",
       "      <th>s_1</th>\n",
       "      <th>s_2</th>\n",
       "      <th>sol</th>\n",
       "    </tr>\n",
       "  </thead>\n",
       "  <tbody>\n",
       "    <tr>\n",
       "      <th>0</th>\n",
       "      <td>1.0</td>\n",
       "      <td>0.0</td>\n",
       "      <td>20.0</td>\n",
       "      <td>50.0</td>\n",
       "      <td>0.0</td>\n",
       "      <td>1600.0</td>\n",
       "    </tr>\n",
       "    <tr>\n",
       "      <th>1</th>\n",
       "      <td>0.0</td>\n",
       "      <td>1.0</td>\n",
       "      <td>2.0</td>\n",
       "      <td>1.0</td>\n",
       "      <td>0.0</td>\n",
       "      <td>32.0</td>\n",
       "    </tr>\n",
       "    <tr>\n",
       "      <th>2</th>\n",
       "      <td>0.0</td>\n",
       "      <td>0.0</td>\n",
       "      <td>1.0</td>\n",
       "      <td>-1.0</td>\n",
       "      <td>-1.0</td>\n",
       "      <td>18.0</td>\n",
       "    </tr>\n",
       "  </tbody>\n",
       "</table>\n",
       "</div>"
      ],
      "text/plain": [
       "     z  x_1   x_2   s_1  s_2     sol\n",
       "0  1.0  0.0  20.0  50.0  0.0  1600.0\n",
       "1  0.0  1.0   2.0   1.0  0.0    32.0\n",
       "2  0.0  0.0   1.0  -1.0 -1.0    18.0"
      ]
     },
     "execution_count": 19,
     "metadata": {},
     "output_type": "execute_result"
    }
   ],
   "source": [
    "pd.DataFrame(table_final_1, columns = bases)"
   ]
  },
  {
   "cell_type": "code",
   "execution_count": 20,
   "id": "typical-simpson",
   "metadata": {},
   "outputs": [
    {
     "data": {
      "text/plain": [
       "{'z': 1600.0, 'x_1': 32.0, 'x_2': 0}"
      ]
     },
     "execution_count": 20,
     "metadata": {},
     "output_type": "execute_result"
    }
   ],
   "source": [
    "res_1"
   ]
  },
  {
   "cell_type": "markdown",
   "id": "smoking-spain",
   "metadata": {},
   "source": [
    "### Приклад для 3 змінних"
   ]
  },
  {
   "cell_type": "markdown",
   "id": "disabled-anthropology",
   "metadata": {},
   "source": [
    "\\begin{equation}\n",
    "\\begin{cases}\n",
    "z = 200x_1 + 250x_2+100x_3 \\rightarrow max;\\\\\n",
    "x_1 + x_2+x_3 \\leq 300;\\\\\n",
    "30x_1 + 40x_2+50x_3 \\leq 6400;\\\\\n",
    "x_1+ x_2 + 2x_3 \\leq 200;\\\\\n",
    "x_1, x_2, x_3 \\geq 0\n",
    "\\end{cases}\n",
    "\\end{equation}"
   ]
  },
  {
   "cell_type": "code",
   "execution_count": 21,
   "id": "sacred-ready",
   "metadata": {},
   "outputs": [],
   "source": [
    "init_pr_3d = convert_string_problem_into_arrays(\"200*x_1 + 250*x_2+100*x_3\",\n",
    "                                            [],\n",
    "                                            [\"1*x_1 + 1*x_2 + 1*x_3 <= 300\",\n",
    "                                            \"30*x_1 + 40*x_2 + 50*x_3 <= 6400\",\n",
    "                                            \"1*x_1 + 1*x_2 + 2*x_3 <= 200\"],\n",
    "                                            [],\n",
    "                                            \"\")"
   ]
  },
  {
   "cell_type": "code",
   "execution_count": 22,
   "id": "tutorial-march",
   "metadata": {},
   "outputs": [],
   "source": [
    "A_3d, b_3d, c_3d, add_3d = canonic_form_of_problem(init_pr_3d)"
   ]
  },
  {
   "cell_type": "code",
   "execution_count": 23,
   "id": "economic-frost",
   "metadata": {},
   "outputs": [],
   "source": [
    "first_table_3d, bases_3d = simplex_init(A_3d, b_3d, c_3d, add_3d)"
   ]
  },
  {
   "cell_type": "code",
   "execution_count": 24,
   "id": "finite-prefix",
   "metadata": {},
   "outputs": [
    {
     "name": "stdout",
     "output_type": "stream",
     "text": [
      "[[ 1.0e+00 -2.0e+02 -2.5e+02 -1.0e+02  0.0e+00  0.0e+00  0.0e+00  0.0e+00]\n",
      " [ 0.0e+00  1.0e+00  1.0e+00  1.0e+00  1.0e+00  0.0e+00  0.0e+00  3.0e+02]\n",
      " [ 0.0e+00  3.0e+01  4.0e+01  5.0e+01  0.0e+00  1.0e+00  0.0e+00  6.4e+03]\n",
      " [ 0.0e+00  1.0e+00  1.0e+00  2.0e+00  0.0e+00  0.0e+00  1.0e+00  2.0e+02]]\n"
     ]
    }
   ],
   "source": [
    "print(first_table_3d)"
   ]
  },
  {
   "cell_type": "code",
   "execution_count": 25,
   "id": "boolean-priest",
   "metadata": {},
   "outputs": [],
   "source": [
    "table_final_3d, res_3d = simplex_method(first_table_3d, bases_3d)"
   ]
  },
  {
   "cell_type": "code",
   "execution_count": 26,
   "id": "royal-means",
   "metadata": {},
   "outputs": [
    {
     "data": {
      "text/html": [
       "<div>\n",
       "<style scoped>\n",
       "    .dataframe tbody tr th:only-of-type {\n",
       "        vertical-align: middle;\n",
       "    }\n",
       "\n",
       "    .dataframe tbody tr th {\n",
       "        vertical-align: top;\n",
       "    }\n",
       "\n",
       "    .dataframe thead th {\n",
       "        text-align: right;\n",
       "    }\n",
       "</style>\n",
       "<table border=\"1\" class=\"dataframe\">\n",
       "  <thead>\n",
       "    <tr style=\"text-align: right;\">\n",
       "      <th></th>\n",
       "      <th>z</th>\n",
       "      <th>x_1</th>\n",
       "      <th>x_2</th>\n",
       "      <th>x_3</th>\n",
       "      <th>s_1</th>\n",
       "      <th>s_2</th>\n",
       "      <th>s_3</th>\n",
       "      <th>sol</th>\n",
       "    </tr>\n",
       "  </thead>\n",
       "  <tbody>\n",
       "    <tr>\n",
       "      <th>0</th>\n",
       "      <td>1.0</td>\n",
       "      <td>0.0</td>\n",
       "      <td>0.0</td>\n",
       "      <td>250.0</td>\n",
       "      <td>0.0</td>\n",
       "      <td>5.0</td>\n",
       "      <td>50.0</td>\n",
       "      <td>42000.0</td>\n",
       "    </tr>\n",
       "    <tr>\n",
       "      <th>1</th>\n",
       "      <td>0.0</td>\n",
       "      <td>0.0</td>\n",
       "      <td>0.0</td>\n",
       "      <td>-1.0</td>\n",
       "      <td>1.0</td>\n",
       "      <td>0.0</td>\n",
       "      <td>-1.0</td>\n",
       "      <td>100.0</td>\n",
       "    </tr>\n",
       "    <tr>\n",
       "      <th>2</th>\n",
       "      <td>0.0</td>\n",
       "      <td>0.0</td>\n",
       "      <td>1.0</td>\n",
       "      <td>-1.0</td>\n",
       "      <td>0.0</td>\n",
       "      <td>0.1</td>\n",
       "      <td>-3.0</td>\n",
       "      <td>40.0</td>\n",
       "    </tr>\n",
       "    <tr>\n",
       "      <th>3</th>\n",
       "      <td>0.0</td>\n",
       "      <td>1.0</td>\n",
       "      <td>0.0</td>\n",
       "      <td>3.0</td>\n",
       "      <td>0.0</td>\n",
       "      <td>-0.1</td>\n",
       "      <td>4.0</td>\n",
       "      <td>160.0</td>\n",
       "    </tr>\n",
       "  </tbody>\n",
       "</table>\n",
       "</div>"
      ],
      "text/plain": [
       "     z  x_1  x_2    x_3  s_1  s_2   s_3      sol\n",
       "0  1.0  0.0  0.0  250.0  0.0  5.0  50.0  42000.0\n",
       "1  0.0  0.0  0.0   -1.0  1.0  0.0  -1.0    100.0\n",
       "2  0.0  0.0  1.0   -1.0  0.0  0.1  -3.0     40.0\n",
       "3  0.0  1.0  0.0    3.0  0.0 -0.1   4.0    160.0"
      ]
     },
     "execution_count": 26,
     "metadata": {},
     "output_type": "execute_result"
    }
   ],
   "source": [
    "pd.DataFrame(table_final_3d, columns = bases_3d)"
   ]
  },
  {
   "cell_type": "code",
   "execution_count": 27,
   "id": "unlike-highland",
   "metadata": {},
   "outputs": [
    {
     "data": {
      "text/plain": [
       "{'z': 42000.0, 'x_1': 160.0, 'x_2': 40.0, 'x_3': 0}"
      ]
     },
     "execution_count": 27,
     "metadata": {},
     "output_type": "execute_result"
    }
   ],
   "source": [
    "res_3d"
   ]
  },
  {
   "cell_type": "markdown",
   "id": "insured-illustration",
   "metadata": {},
   "source": [
    "## Без обмеження на змінну"
   ]
  },
  {
   "cell_type": "code",
   "execution_count": 28,
   "id": "cheap-biography",
   "metadata": {},
   "outputs": [],
   "source": [
    "init_pr_3d_1 = convert_string_problem_into_arrays(\"200*x_1+250*x_2+100*x_3\",\n",
    "                                            [],\n",
    "                                            [\"1*x_1 + 1*x_2 + 1*x_3 <= 300\",\n",
    "                                            \"30*x_1 + 40*x_2 + 50*x_3<=6400\",\n",
    "                                            \"1*x_1 + 1*x_2 + 2*x_3 <= 200\"],\n",
    "                                            [],\n",
    "                                            \"x_3\")"
   ]
  },
  {
   "cell_type": "code",
   "execution_count": 29,
   "id": "cross-motion",
   "metadata": {},
   "outputs": [],
   "source": [
    "A_3d_1, b_3d_1, c_3d_1, add_3d_1 = canonic_form_of_problem(init_pr_3d_1)"
   ]
  },
  {
   "cell_type": "code",
   "execution_count": 30,
   "id": "checked-canvas",
   "metadata": {},
   "outputs": [],
   "source": [
    "first_table_3d_1, bases_3d_1 = simplex_init(A_3d_1, b_3d_1, c_3d_1, add_3d_1)"
   ]
  },
  {
   "cell_type": "code",
   "execution_count": 31,
   "id": "standing-defendant",
   "metadata": {},
   "outputs": [
    {
     "data": {
      "text/html": [
       "<div>\n",
       "<style scoped>\n",
       "    .dataframe tbody tr th:only-of-type {\n",
       "        vertical-align: middle;\n",
       "    }\n",
       "\n",
       "    .dataframe tbody tr th {\n",
       "        vertical-align: top;\n",
       "    }\n",
       "\n",
       "    .dataframe thead th {\n",
       "        text-align: right;\n",
       "    }\n",
       "</style>\n",
       "<table border=\"1\" class=\"dataframe\">\n",
       "  <thead>\n",
       "    <tr style=\"text-align: right;\">\n",
       "      <th></th>\n",
       "      <th>z</th>\n",
       "      <th>x_1</th>\n",
       "      <th>x_2</th>\n",
       "      <th>x_3</th>\n",
       "      <th>x_4</th>\n",
       "      <th>s_1</th>\n",
       "      <th>s_2</th>\n",
       "      <th>s_3</th>\n",
       "      <th>sol</th>\n",
       "    </tr>\n",
       "  </thead>\n",
       "  <tbody>\n",
       "    <tr>\n",
       "      <th>0</th>\n",
       "      <td>1.0</td>\n",
       "      <td>-200.0</td>\n",
       "      <td>-250.0</td>\n",
       "      <td>-100.0</td>\n",
       "      <td>100.0</td>\n",
       "      <td>0.0</td>\n",
       "      <td>0.0</td>\n",
       "      <td>0.0</td>\n",
       "      <td>0.0</td>\n",
       "    </tr>\n",
       "    <tr>\n",
       "      <th>1</th>\n",
       "      <td>0.0</td>\n",
       "      <td>1.0</td>\n",
       "      <td>1.0</td>\n",
       "      <td>1.0</td>\n",
       "      <td>-1.0</td>\n",
       "      <td>1.0</td>\n",
       "      <td>0.0</td>\n",
       "      <td>0.0</td>\n",
       "      <td>300.0</td>\n",
       "    </tr>\n",
       "    <tr>\n",
       "      <th>2</th>\n",
       "      <td>0.0</td>\n",
       "      <td>30.0</td>\n",
       "      <td>40.0</td>\n",
       "      <td>50.0</td>\n",
       "      <td>-50.0</td>\n",
       "      <td>0.0</td>\n",
       "      <td>1.0</td>\n",
       "      <td>0.0</td>\n",
       "      <td>6400.0</td>\n",
       "    </tr>\n",
       "    <tr>\n",
       "      <th>3</th>\n",
       "      <td>0.0</td>\n",
       "      <td>1.0</td>\n",
       "      <td>1.0</td>\n",
       "      <td>2.0</td>\n",
       "      <td>-2.0</td>\n",
       "      <td>0.0</td>\n",
       "      <td>0.0</td>\n",
       "      <td>1.0</td>\n",
       "      <td>200.0</td>\n",
       "    </tr>\n",
       "  </tbody>\n",
       "</table>\n",
       "</div>"
      ],
      "text/plain": [
       "     z    x_1    x_2    x_3    x_4  s_1  s_2  s_3     sol\n",
       "0  1.0 -200.0 -250.0 -100.0  100.0  0.0  0.0  0.0     0.0\n",
       "1  0.0    1.0    1.0    1.0   -1.0  1.0  0.0  0.0   300.0\n",
       "2  0.0   30.0   40.0   50.0  -50.0  0.0  1.0  0.0  6400.0\n",
       "3  0.0    1.0    1.0    2.0   -2.0  0.0  0.0  1.0   200.0"
      ]
     },
     "execution_count": 31,
     "metadata": {},
     "output_type": "execute_result"
    }
   ],
   "source": [
    "pd.DataFrame(first_table_3d_1, columns = bases_3d_1)"
   ]
  },
  {
   "cell_type": "code",
   "execution_count": 32,
   "id": "unique-belarus",
   "metadata": {},
   "outputs": [
    {
     "ename": "ArithmeticError",
     "evalue": "The problem has no optimal solution!",
     "output_type": "error",
     "traceback": [
      "\u001b[0;31m---------------------------------------------------------------------------\u001b[0m",
      "\u001b[0;31mArithmeticError\u001b[0m                           Traceback (most recent call last)",
      "\u001b[0;32m<ipython-input-32-f664a413e551>\u001b[0m in \u001b[0;36m<module>\u001b[0;34m\u001b[0m\n\u001b[0;32m----> 1\u001b[0;31m \u001b[0mtable_final_3d_1\u001b[0m\u001b[0;34m,\u001b[0m \u001b[0mres_3d_1\u001b[0m \u001b[0;34m=\u001b[0m \u001b[0msimplex_method\u001b[0m\u001b[0;34m(\u001b[0m\u001b[0mfirst_table_3d_1\u001b[0m\u001b[0;34m,\u001b[0m \u001b[0mbases_3d_1\u001b[0m\u001b[0;34m)\u001b[0m\u001b[0;34m\u001b[0m\u001b[0;34m\u001b[0m\u001b[0m\n\u001b[0m",
      "\u001b[0;32m~/MO/Lab_5/simplex.py\u001b[0m in \u001b[0;36msimplex_method\u001b[0;34m(table, bases)\u001b[0m\n\u001b[1;32m    256\u001b[0m     \u001b[0;32melse\u001b[0m\u001b[0;34m:\u001b[0m\u001b[0;34m\u001b[0m\u001b[0;34m\u001b[0m\u001b[0m\n\u001b[1;32m    257\u001b[0m         \u001b[0;32mif\u001b[0m \u001b[0mk\u001b[0m\u001b[0;34m==\u001b[0m\u001b[0;36m1000\u001b[0m\u001b[0;34m:\u001b[0m\u001b[0;34m\u001b[0m\u001b[0;34m\u001b[0m\u001b[0m\n\u001b[0;32m--> 258\u001b[0;31m             \u001b[0;32mraise\u001b[0m \u001b[0mArithmeticError\u001b[0m\u001b[0;34m(\u001b[0m\u001b[0;34m\"The problem has no optimal solution!\"\u001b[0m\u001b[0;34m)\u001b[0m\u001b[0;34m\u001b[0m\u001b[0;34m\u001b[0m\u001b[0m\n\u001b[0m\u001b[1;32m    259\u001b[0m \u001b[0;34m\u001b[0m\u001b[0m\n\u001b[1;32m    260\u001b[0m     \u001b[0mres\u001b[0m \u001b[0;34m=\u001b[0m \u001b[0;34m{\u001b[0m\u001b[0;34m\"z\"\u001b[0m\u001b[0;34m:\u001b[0m \u001b[0mtable_new\u001b[0m\u001b[0;34m[\u001b[0m\u001b[0;36m0\u001b[0m\u001b[0;34m,\u001b[0m \u001b[0;34m-\u001b[0m\u001b[0;36m1\u001b[0m\u001b[0;34m]\u001b[0m\u001b[0;34m}\u001b[0m\u001b[0;34m\u001b[0m\u001b[0;34m\u001b[0m\u001b[0m\n",
      "\u001b[0;31mArithmeticError\u001b[0m: The problem has no optimal solution!"
     ]
    }
   ],
   "source": [
    "table_final_3d_1, res_3d_1 = simplex_method(first_table_3d_1, bases_3d_1)"
   ]
  }
 ],
 "metadata": {
  "kernelspec": {
   "display_name": "Python 3",
   "language": "python",
   "name": "python3"
  },
  "language_info": {
   "codemirror_mode": {
    "name": "ipython",
    "version": 3
   },
   "file_extension": ".py",
   "mimetype": "text/x-python",
   "name": "python",
   "nbconvert_exporter": "python",
   "pygments_lexer": "ipython3",
   "version": "3.8.6"
  }
 },
 "nbformat": 4,
 "nbformat_minor": 5
}
